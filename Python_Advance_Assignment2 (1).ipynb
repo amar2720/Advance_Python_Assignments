{
 "cells": [
  {
   "cell_type": "markdown",
   "metadata": {},
   "source": [
    "### Q1. What is the relationship between classes and modules?"
   ]
  },
  {
   "cell_type": "code",
   "execution_count": 1,
   "metadata": {},
   "outputs": [],
   "source": [
    "#Answer\n",
    "#A module can contain executable statements as well as function definitions.\n",
    "#These statements are intended to initialize the module.\n",
    "#They are executed only the first time the module name is encountered in an import statement.\n",
    "#Modules can contain function but also classes\n",
    "\n",
    "#Classes provide a means of building data and functionality together.\n",
    "#Creating a new class creates a new type of object, allowing new instances of that type to be made.\n",
    "#Each class instance can have attributes attached to it for maintaining its state.\n",
    "#Class instances can also have methods for modifying its state."
   ]
  },
  {
   "cell_type": "markdown",
   "metadata": {},
   "source": [
    "### Q2. How do you make instances and classes?"
   ]
  },
  {
   "cell_type": "code",
   "execution_count": 2,
   "metadata": {},
   "outputs": [],
   "source": [
    "#Answer\n",
    "#Class - A user defined prototype for an object that defines a set of attributes that charecterize any object of the class.\n",
    "#The attributes are data members (class variables and instance variables) and methods,accessed via dot notation.\n",
    "\n",
    "#Instance - An individual object of a certain class.\n",
    "#An object obj belongs to a class circle, for example obj is an instance of the class circle.\n",
    "\n",
    "class Circle:\n",
    "    pass\n",
    "obj = Circle() #Instance of a class Circle"
   ]
  },
  {
   "cell_type": "markdown",
   "metadata": {},
   "source": [
    "### Q3. Where and how should be class attributes created?"
   ]
  },
  {
   "cell_type": "code",
   "execution_count": 3,
   "metadata": {},
   "outputs": [],
   "source": [
    "#Answer\n",
    "#Class attributes are just created just after the class definition\n",
    "#They can also be created by explicitly assigning to them out the class.\n"
   ]
  },
  {
   "cell_type": "markdown",
   "metadata": {},
   "source": [
    "### Q4. Where and how are instance attributes created?"
   ]
  },
  {
   "cell_type": "code",
   "execution_count": 4,
   "metadata": {},
   "outputs": [
    {
     "name": "stdout",
     "output_type": "stream",
     "text": [
      "20 6\n"
     ]
    }
   ],
   "source": [
    "#Answer\n",
    "#Instance attributes are created when the instance of the object is initialized using __init__ function\n",
    "class A:\n",
    "    def __init__(self,x,y):\n",
    "        self.x = x #instance attribute of each instance\n",
    "        self.y = y #instance attribute of each instance\n",
    "    def display(self):\n",
    "        print(self.x,self.y)\n",
    "obj = A(20,6)\n",
    "obj.display()"
   ]
  },
  {
   "cell_type": "markdown",
   "metadata": {},
   "source": [
    "### Q5. What does the term \"self\" in a Python class mean?\n",
    "\n"
   ]
  },
  {
   "cell_type": "code",
   "execution_count": 6,
   "metadata": {},
   "outputs": [
    {
     "name": "stdout",
     "output_type": "stream",
     "text": [
      "Hello my name is Robin\n"
     ]
    }
   ],
   "source": [
    "#Answer\n",
    "#The self parameter is a reference to the current instance of the class and is used to access variables that belongs to the class.\n",
    "class Person:\n",
    "    def __init__(self,name,age):\n",
    "        self.name = name\n",
    "        self.age = age\n",
    "    def myfunc(abc):\n",
    "        print(\"Hello my name is \" + abc.name)\n",
    "P = Person(\"Robin\",45)\n",
    "P.myfunc()"
   ]
  },
  {
   "cell_type": "markdown",
   "metadata": {},
   "source": [
    "### Q6. How does a Python class handle operator overloading?"
   ]
  },
  {
   "cell_type": "code",
   "execution_count": 8,
   "metadata": {},
   "outputs": [
    {
     "name": "stdout",
     "output_type": "stream",
     "text": [
      "(6, 8)\n"
     ]
    }
   ],
   "source": [
    "class addition:\n",
    "    def __init__(self,a,b):\n",
    "        self.a = a\n",
    "        self.b = b\n",
    "    def __str__(self):\n",
    "        return 'operator loading'\n",
    "    def __add__(self,other): #Method used for operator overloading\n",
    "        return self.a + other.a,self.b + other.b\n",
    "a1 = addition(2,3)\n",
    "a2 = addition(4,5)\n",
    "print(a1+a2)\n",
    "    "
   ]
  },
  {
   "cell_type": "markdown",
   "metadata": {},
   "source": [
    "### Q7. When do you consider allowing operator overloading of your classes?"
   ]
  },
  {
   "cell_type": "code",
   "execution_count": 9,
   "metadata": {},
   "outputs": [],
   "source": [
    "#Answer\n",
    "#Operator Overloading means giving extended meaning beyond their predefined operational meaning.\n",
    "#For example operator + is used to add two integers as well as join two strings and merge two lists. \n",
    "#It is achievable because ‘+’ operator is overloaded by int class and str class. \n",
    "#the same built-in operator or function shows different behavior for objects of different classes, this is called Operator Overloading.\n",
    "#It is normally used for performing mathematical operations like Vector operations etc."
   ]
  },
  {
   "cell_type": "markdown",
   "metadata": {},
   "source": [
    "### Q8. What is the most popular form of operator overloading?"
   ]
  },
  {
   "cell_type": "code",
   "execution_count": 10,
   "metadata": {},
   "outputs": [],
   "source": [
    "#Answer\n",
    "#One of the most important operator overloading methods is the __init__ method. \n",
    "#This method is called whenever the class name is used for instantiation, and allows you to initialize attributes \n",
    "#in your object at the same time as you create it."
   ]
  },
  {
   "cell_type": "markdown",
   "metadata": {},
   "source": [
    "### Q9. What are the two most important concepts to grasp in order to comprehend Python OOP code?"
   ]
  },
  {
   "cell_type": "code",
   "execution_count": 11,
   "metadata": {},
   "outputs": [],
   "source": [
    "#Answer\n",
    "# Self used within the class, Inheritance and __init__ are important concepts of python OOP code. \n",
    "# These concepts help us to create code that can be extended and easily maintainable.\n",
    "\n",
    "# Inheritance is a great way to eliminate unnecessary repetitive code. A child class can inherit from the parent class partially\n",
    "# or entirely. \n",
    "\n",
    "#self, the instance of the object is passed by default to __init__ to instatntiate and create instance variables."
   ]
  },
  {
   "cell_type": "code",
   "execution_count": null,
   "metadata": {},
   "outputs": [],
   "source": []
  }
 ],
 "metadata": {
  "kernelspec": {
   "display_name": "Python 3",
   "language": "python",
   "name": "python3"
  },
  "language_info": {
   "codemirror_mode": {
    "name": "ipython",
    "version": 3
   },
   "file_extension": ".py",
   "mimetype": "text/x-python",
   "name": "python",
   "nbconvert_exporter": "python",
   "pygments_lexer": "ipython3",
   "version": "3.7.4"
  }
 },
 "nbformat": 4,
 "nbformat_minor": 2
}
