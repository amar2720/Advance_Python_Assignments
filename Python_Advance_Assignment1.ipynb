{
 "cells": [
  {
   "cell_type": "markdown",
   "metadata": {},
   "source": [
    "### Q1. What is the purpose of Python's OOP?"
   ]
  },
  {
   "cell_type": "code",
   "execution_count": 1,
   "metadata": {},
   "outputs": [],
   "source": [
    "#Answer\n",
    "#The purpose of OOP'S are reusability, modularity, user friendly code and easy to understand the code.\n",
    "#In Python, OOP'S is a programming paradigm that uses objects and classes in programming\n",
    "#It aims to implement real world entities like Inheritance, Polymorphism, Encapsulation concepts in our programming."
   ]
  },
  {
   "cell_type": "markdown",
   "metadata": {},
   "source": [
    "### Q2. Where does an inheritance search look for an attribute?"
   ]
  },
  {
   "cell_type": "code",
   "execution_count": 2,
   "metadata": {},
   "outputs": [
    {
     "name": "stdout",
     "output_type": "stream",
     "text": [
      "Value of x in instance of class D: x from D\n",
      "Value of x is newly defined one in A and C inherits from A and E inherits it from C: New value of x from A\n",
      "Value of x is set in C and as E inherits C object first: New value of x from C\n",
      "(<class '__main__.E'>, <class '__main__.C'>, <class '__main__.A'>, <class '__main__.D'>, <class '__main__.B'>, <class 'object'>)\n"
     ]
    }
   ],
   "source": [
    "#Answer\n",
    "#First search happens in the instance of class object.\n",
    "#Then it searches in the first class passed from which it inherits. i.e its parent class or super class.\n",
    "#If the first class from which it inherits doesn't have the value attribute, it will inherit it from second class passed from which it inherits and in the order it is passed.\n",
    "\n",
    "class A(object):\n",
    "    pass\n",
    "\n",
    "class B(object):\n",
    "    x = 'x from B'\n",
    "    \n",
    "class C(A,B):\n",
    "    pass\n",
    "\n",
    "class D(B):\n",
    "    x = 'x from D'\n",
    "\n",
    "class E(C,D):\n",
    "    pass\n",
    "\n",
    "e_inst = E()\n",
    "print(\"Value of x in instance of class D:\",e_inst.x)\n",
    "\n",
    "A.x = \"New value of x from A\"\n",
    "print(\"Value of x is newly defined one in A and C inherits from A and E inherits it from C:\",e_inst.x)\n",
    "\n",
    "C.x='New value of x from C'\n",
    "print(\"Value of x is set in C and as E inherits C object first:\",e_inst.x)\n",
    "\n",
    "print(E.__mro__)"
   ]
  },
  {
   "cell_type": "markdown",
   "metadata": {},
   "source": [
    "### Q3. How do you distinguish between a class object and an instance object?"
   ]
  },
  {
   "cell_type": "code",
   "execution_count": 3,
   "metadata": {},
   "outputs": [],
   "source": [
    "#Answer\n",
    "#A class is a template for creating objects in program. It is a logical entity and occupies no memory space.\n",
    "#The object is an instance of a class and a physical entity. When instance object is created memory is allocated."
   ]
  },
  {
   "cell_type": "markdown",
   "metadata": {},
   "source": [
    "### Q4. What makes the first argument in a class’s method function special?"
   ]
  },
  {
   "cell_type": "code",
   "execution_count": 4,
   "metadata": {},
   "outputs": [],
   "source": [
    "#Answer\n",
    "#The self is received as the first argument of the class method function which refers instance of the object created."
   ]
  },
  {
   "cell_type": "markdown",
   "metadata": {},
   "source": [
    "### Q5. What is the purpose of the __init__ method?"
   ]
  },
  {
   "cell_type": "code",
   "execution_count": 6,
   "metadata": {},
   "outputs": [
    {
     "name": "stdout",
     "output_type": "stream",
     "text": [
      "20 6\n"
     ]
    }
   ],
   "source": [
    "#Answer\n",
    "#The purpose of the __init__ method is to initialize the instance of the class when it is created.\n",
    "#It contains the instance of the class by default when the instance of the class is created and it takes some additional arguments\n",
    "\n",
    "class A:\n",
    "    def __init__(self,x,y):\n",
    "        self.x = x\n",
    "        self.y = y\n",
    "        \n",
    "obj = A(20,6)\n",
    "print(obj.x,obj.y)"
   ]
  },
  {
   "cell_type": "markdown",
   "metadata": {},
   "source": [
    "### Q6. What is the process for creating a class instance?"
   ]
  },
  {
   "cell_type": "code",
   "execution_count": 7,
   "metadata": {},
   "outputs": [
    {
     "name": "stdout",
     "output_type": "stream",
     "text": [
      "20\n",
      "25\n"
     ]
    }
   ],
   "source": [
    "class A:\n",
    "    def __init__(self,x,y):\n",
    "        self.x = x\n",
    "        self.y = y\n",
    "obj = A(20,6)\n",
    "obj1 = A(27,25)\n",
    "print(obj.x)\n",
    "print(obj1.y)\n",
    "#With the help of class instance or multiple instance we can access the methods inside the class"
   ]
  },
  {
   "cell_type": "markdown",
   "metadata": {},
   "source": [
    "### Q7. What is the process for creating a class?"
   ]
  },
  {
   "cell_type": "code",
   "execution_count": 8,
   "metadata": {},
   "outputs": [],
   "source": [
    "# Class is a blueprint for creating the objects\n",
    "# Class is an extensible program-code-template for creating objects, providing values for state(member variables) and implementations of behaviour(memberfunctions or methods)"
   ]
  },
  {
   "cell_type": "markdown",
   "metadata": {},
   "source": [
    "### Q8. How would you define the superclasses of a class?"
   ]
  },
  {
   "cell_type": "code",
   "execution_count": 13,
   "metadata": {},
   "outputs": [
    {
     "name": "stdout",
     "output_type": "stream",
     "text": [
      "Salary:20\n",
      "Name:ARJ\n",
      "Age:20\n"
     ]
    }
   ],
   "source": [
    "class Person():\n",
    "    def __init__(self,name,age):\n",
    "        self.name = name\n",
    "        self.age = age\n",
    "    \n",
    "    def display(self):\n",
    "        print(\"Name:{}\".format(self.name))\n",
    "        print(\"Age:{}\".format(self.age))\n",
    "#subclass\n",
    "\n",
    "class Employee(Person):\n",
    "    def __init__(self,nam,sal,city):\n",
    "        self.sal = sal\n",
    "        self.city = city\n",
    "        super().__init__(nam,sal)\n",
    "        \n",
    "    def display1(self):\n",
    "        print(\"Salary:{}\".format(self.sal))\n",
    "        super().display()\n",
    "E = Employee('ARJ',20,'MAA')\n",
    "E.display1()"
   ]
  },
  {
   "cell_type": "code",
   "execution_count": null,
   "metadata": {},
   "outputs": [],
   "source": []
  }
 ],
 "metadata": {
  "kernelspec": {
   "display_name": "Python 3",
   "language": "python",
   "name": "python3"
  },
  "language_info": {
   "codemirror_mode": {
    "name": "ipython",
    "version": 3
   },
   "file_extension": ".py",
   "mimetype": "text/x-python",
   "name": "python",
   "nbconvert_exporter": "python",
   "pygments_lexer": "ipython3",
   "version": "3.7.4"
  }
 },
 "nbformat": 4,
 "nbformat_minor": 2
}
