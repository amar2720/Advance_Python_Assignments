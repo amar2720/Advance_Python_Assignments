{
 "cells": [
  {
   "cell_type": "markdown",
   "metadata": {},
   "source": [
    "### Q1. What is the meaning of multiple inheritance?"
   ]
  },
  {
   "cell_type": "code",
   "execution_count": 1,
   "metadata": {},
   "outputs": [],
   "source": [
    "#Answer\n",
    "#When a class is derived from more than one base class it is called as multiple inheritance.\n",
    "#The derived class inherits all the features of the base class."
   ]
  },
  {
   "cell_type": "markdown",
   "metadata": {},
   "source": [
    "### Q2. What is the concept of delegation?"
   ]
  },
  {
   "cell_type": "code",
   "execution_count": 2,
   "metadata": {},
   "outputs": [],
   "source": [
    "#Answer\n",
    "#Delegation is an object oriented technique also called as a design pattern.\n",
    "#Let's say you have an object x and want to change the behaviour of just one of its methods.\n",
    "#The delegation is accomplished with the help of __getattr__ method"
   ]
  },
  {
   "cell_type": "markdown",
   "metadata": {},
   "source": [
    "### Q3. What is the concept of composition?"
   ]
  },
  {
   "cell_type": "code",
   "execution_count": 3,
   "metadata": {},
   "outputs": [],
   "source": [
    "#Answer\n",
    "#Composition is a concept that models a has a relationship. It enables creating complex types by combining objects \n",
    "#of other types. This means that a class Composite can contain an object of another class Component.\n",
    "#This relationship means that a Composite has a Component.\n",
    "\n",
    "#Classes that contain objects of other classes are usually referred to as composites, \n",
    "#where classes that are used to create more complex types are referred to as components.\n"
   ]
  },
  {
   "cell_type": "markdown",
   "metadata": {},
   "source": [
    "### Q4. What are bound methods and how do we use them?"
   ]
  },
  {
   "cell_type": "code",
   "execution_count": 4,
   "metadata": {},
   "outputs": [
    {
     "name": "stdout",
     "output_type": "stream",
     "text": [
      "<bound method A.func of <__main__.A object at 0x0000024F4196B348>>\n"
     ]
    }
   ],
   "source": [
    "#A bound method is the one which is dependent on the instance of the class as the first argument. \n",
    "#It passes the instance as the first argument which is used to access the variables and functions.\n",
    "\n",
    "#e.g.\n",
    "\n",
    "class A:\n",
    "  \n",
    "    def func(self, arg):\n",
    "        self.arg = arg\n",
    "        print(\"Value of arg = \", arg)\n",
    "  \n",
    "  \n",
    "# Creating an instance\n",
    "obj = A()  \n",
    "  \n",
    "# bound method\n",
    "print(obj.func)\n",
    "\n",
    "#The instance obj is automatically passed as the first argument to the function \n",
    "#called and hence the first parameter of the function will be used to access the \n",
    "#variables/functions of the object."
   ]
  },
  {
   "cell_type": "markdown",
   "metadata": {},
   "source": [
    "### Q5. What is the purpose of pseudoprivate attributes?"
   ]
  },
  {
   "cell_type": "code",
   "execution_count": 5,
   "metadata": {},
   "outputs": [],
   "source": [
    "#Answer\n",
    "#\n",
    "#Pseudoprivate attributes are also useful in larger frameworks or tools, both to avoid introducing new method names\n",
    "#that might accidentally hide definitions elsewhere in the class tree and to reduce the chance of internal methods being \n",
    "#replaced by names defined lower in the tree. If a method is intended for use only within a class that may be mixed \n",
    "#into other classes, the double underscore prefix ensures that the method won't interfere with other names in the tree, \n",
    "#especially in multiple-inheritance"
   ]
  },
  {
   "cell_type": "code",
   "execution_count": null,
   "metadata": {},
   "outputs": [],
   "source": []
  }
 ],
 "metadata": {
  "kernelspec": {
   "display_name": "Python 3",
   "language": "python",
   "name": "python3"
  },
  "language_info": {
   "codemirror_mode": {
    "name": "ipython",
    "version": 3
   },
   "file_extension": ".py",
   "mimetype": "text/x-python",
   "name": "python",
   "nbconvert_exporter": "python",
   "pygments_lexer": "ipython3",
   "version": "3.7.4"
  }
 },
 "nbformat": 4,
 "nbformat_minor": 2
}
